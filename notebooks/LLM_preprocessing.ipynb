{
 "cells": [
  {
   "cell_type": "markdown",
   "id": "6d4acdd9",
   "metadata": {},
   "source": [
    "## Image -> Text Task"
   ]
  },
  {
   "cell_type": "markdown",
   "id": "04a86203",
   "metadata": {},
   "source": [
    "Goal: Set up a pipeline to Claude to identify non-text parts of the image (shape, icongraphy, etc)"
   ]
  },
  {
   "cell_type": "markdown",
   "id": "a003335c",
   "metadata": {},
   "source": []
  }
 ],
 "metadata": {
  "language_info": {
   "name": "python"
  }
 },
 "nbformat": 4,
 "nbformat_minor": 5
}
