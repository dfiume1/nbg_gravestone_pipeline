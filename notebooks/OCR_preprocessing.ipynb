{
 "cells": [
  {
   "cell_type": "markdown",
   "id": "4f582696",
   "metadata": {},
   "source": [
    "## Gravestone Transcription using OCR "
   ]
  },
  {
   "cell_type": "markdown",
   "id": "02133e82",
   "metadata": {},
   "source": []
  }
 ],
 "metadata": {
  "language_info": {
   "name": "python"
  }
 },
 "nbformat": 4,
 "nbformat_minor": 5
}
